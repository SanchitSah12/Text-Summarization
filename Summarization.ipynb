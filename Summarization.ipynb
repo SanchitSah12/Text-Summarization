{
  "cells": [
    {
      "cell_type": "code",
      "execution_count": 44,
      "id": "c163ecfb",
      "metadata": {
        "colab": {
          "base_uri": "https://localhost:8080/"
        },
        "id": "c163ecfb",
        "outputId": "05533ce8-9b11-49ce-cd1a-f78ab3471548"
      },
      "outputs": [
        {
          "name": "stdout",
          "output_type": "stream",
          "text": [
            "AI will play a vital role in the healthcare sector for diagnosing diseases quickly and more accurately. New drug discovery will be faster and cost-effective with the help of AI. It will also enhance the patient engagement in their care and also make ease appointment scheduling, bill paying, with fewer errors. However, apart from these beneficial uses, one great challenge of AI in healthcare is to ensure its adoption in daily clinical practices. From patient self-service to chat bots, computer-aided detection (CAD) systems for diagnosis, and image data analysis to identify candidate molecules in drug discovery, AI is already at work increasing convenience and efficiency, reducing costs and errors, and generally making it easier for more patients to receive the health care they need.While NLP and ML are already being used in health care, they will become increasingly important for their potential to:Improve provider and clinician productivity and quality of care, Enhance patient engagement in their own care and streamline patient access to care , Accelerate the speed and reduce the cost to develop new pharmaceutical treatments  and Personalize medical treatments by leveraging analytics to mine significant, previously untapped stores of non-codified clinical data.\n"
          ]
        }
      ],
      "source": [
        "f = open(\"text1.txt\",\"r\")\n",
        "content = f.read()\n",
        "print(content)\n",
        "path_online_source = \"summarized_from_online_source.txt\"\n",
        "path_model_source = \"summary_from_model.txt\"\n",
        "text_path = \"text1.txt\""
      ]
    },
    {
      "cell_type": "code",
      "execution_count": 45,
      "id": "4f038a8c",
      "metadata": {
        "colab": {
          "base_uri": "https://localhost:8080/"
        },
        "id": "4f038a8c",
        "outputId": "5ea6462b-5a85-4094-f3c9-c09091946e21"
      },
      "outputs": [
        {
          "name": "stderr",
          "output_type": "stream",
          "text": [
            "[nltk_data] Downloading package stopwords to\n",
            "[nltk_data]     C:\\Users\\Sahsa\\AppData\\Roaming\\nltk_data...\n",
            "[nltk_data]   Package stopwords is already up-to-date!\n",
            "[nltk_data] Downloading package punkt to\n",
            "[nltk_data]     C:\\Users\\Sahsa\\AppData\\Roaming\\nltk_data...\n",
            "[nltk_data]   Package punkt is already up-to-date!\n"
          ]
        }
      ],
      "source": [
        "import nltk\n",
        "nltk.download('stopwords')\n",
        "nltk.download('punkt')\n",
        "from nltk.corpus import stopwords\n",
        "from nltk.tokenize import word_tokenize, sent_tokenize"
      ]
    },
    {
      "cell_type": "code",
      "execution_count": 46,
      "id": "74988d37",
      "metadata": {
        "colab": {
          "base_uri": "https://localhost:8080/"
        },
        "id": "74988d37",
        "outputId": "4b547e27-288a-4df8-9eda-d166a57f4124"
      },
      "outputs": [
        {
          "name": "stdout",
          "output_type": "stream",
          "text": [
            "{'more', 'here', 'has', 'and', 'theirs', 'from', 'why', 're', 'being', 'with', 'your', 'shan', \"won't\", \"you'll\", 'ma', 'all', 'yours', 'them', 'can', \"needn't\", 'herself', 'had', \"doesn't\", \"isn't\", 'because', 's', 'wouldn', 'at', 'hadn', 'weren', 'the', 'an', 'out', 'same', 'up', 'own', 'who', 'been', \"you're\", 'did', 'am', \"you've\", 'for', 'too', 'how', \"haven't\", \"wouldn't\", 'themselves', 'my', 'as', 'once', 'no', 'don', 'of', 'than', 'she', 'during', 'most', 'each', 'o', 'whom', 'itself', 'd', \"mightn't\", 'only', 'myself', \"you'd\", 'do', \"hadn't\", 'against', \"it's\", 'not', 'until', 'any', 'll', 'very', 'down', \"aren't\", 'didn', 'shouldn', \"shouldn't\", 'now', 'doing', 'between', 'over', \"should've\", 'mustn', \"wasn't\", 'was', 'if', 'or', 'off', 'me', \"didn't\", 'he', \"she's\", 'a', 'were', 'below', 'yourself', 'just', 'm', 'having', 'will', 'it', 'that', 'when', 'their', \"don't\", 'is', 'while', 'few', 'his', 'should', 'mightn', 've', 'y', 'what', 'by', 'about', 'under', 'himself', 'they', \"shan't\", 'i', 'before', 'so', \"couldn't\", 'above', 'these', 'does', \"mustn't\", 'him', \"that'll\", 'hasn', 'but', 'you', 'yourselves', 'be', 'its', 'aren', 'other', 'ourselves', 'have', 'those', 'we', 'further', 'where', 'our', 'through', 'to', 'isn', 'again', 'into', 'in', 'her', 'nor', 'after', 'ain', 'wasn', 'there', 't', 'hers', 'couldn', 'needn', 'won', 'are', 'which', \"weren't\", 'then', 'on', 'this', 'doesn', \"hasn't\", 'some', 'haven', 'such', 'ours', 'both'}\n",
            "\n",
            "['AI', 'will', 'play', 'a', 'vital', 'role', 'in', 'the', 'healthcare', 'sector', 'for', 'diagnosing', 'diseases', 'quickly', 'and', 'more', 'accurately', '.', 'New', 'drug', 'discovery', 'will', 'be', 'faster', 'and', 'cost-effective', 'with', 'the', 'help', 'of', 'AI', '.', 'It', 'will', 'also', 'enhance', 'the', 'patient', 'engagement', 'in', 'their', 'care', 'and', 'also', 'make', 'ease', 'appointment', 'scheduling', ',', 'bill', 'paying', ',', 'with', 'fewer', 'errors', '.', 'However', ',', 'apart', 'from', 'these', 'beneficial', 'uses', ',', 'one', 'great', 'challenge', 'of', 'AI', 'in', 'healthcare', 'is', 'to', 'ensure', 'its', 'adoption', 'in', 'daily', 'clinical', 'practices', '.', 'From', 'patient', 'self-service', 'to', 'chat', 'bots', ',', 'computer-aided', 'detection', '(', 'CAD', ')', 'systems', 'for', 'diagnosis', ',', 'and', 'image', 'data', 'analysis', 'to', 'identify', 'candidate', 'molecules', 'in', 'drug', 'discovery', ',', 'AI', 'is', 'already', 'at', 'work', 'increasing', 'convenience', 'and', 'efficiency', ',', 'reducing', 'costs', 'and', 'errors', ',', 'and', 'generally', 'making', 'it', 'easier', 'for', 'more', 'patients', 'to', 'receive', 'the', 'health', 'care', 'they', 'need.While', 'NLP', 'and', 'ML', 'are', 'already', 'being', 'used', 'in', 'health', 'care', ',', 'they', 'will', 'become', 'increasingly', 'important', 'for', 'their', 'potential', 'to', ':', 'Improve', 'provider', 'and', 'clinician', 'productivity', 'and', 'quality', 'of', 'care', ',', 'Enhance', 'patient', 'engagement', 'in', 'their', 'own', 'care', 'and', 'streamline', 'patient', 'access', 'to', 'care', ',', 'Accelerate', 'the', 'speed', 'and', 'reduce', 'the', 'cost', 'to', 'develop', 'new', 'pharmaceutical', 'treatments', 'and', 'Personalize', 'medical', 'treatments', 'by', 'leveraging', 'analytics', 'to', 'mine', 'significant', ',', 'previously', 'untapped', 'stores', 'of', 'non-codified', 'clinical', 'data', '.']\n"
          ]
        }
      ],
      "source": [
        "# Tokenizing the text\n",
        "\n",
        "stopWords = set(stopwords.words(\"english\"))\n",
        "words = word_tokenize(content)\n",
        "print(stopWords)\n",
        "print()\n",
        "print(words)"
      ]
    },
    {
      "cell_type": "code",
      "execution_count": 47,
      "id": "771257c6",
      "metadata": {
        "id": "771257c6"
      },
      "outputs": [],
      "source": [
        "# Creating a frequency table to keep the \n",
        "# score of each word\n",
        "   \n",
        "freqTable = dict()\n",
        "for word in words:\n",
        "    word = word.lower()\n",
        "    if word in stopWords:\n",
        "        continue\n",
        "    if word in freqTable:\n",
        "        freqTable[word] += 1\n",
        "    else:\n",
        "        freqTable[word] = 1"
      ]
    },
    {
      "cell_type": "code",
      "execution_count": 48,
      "id": "13a8ba47",
      "metadata": {
        "colab": {
          "base_uri": "https://localhost:8080/"
        },
        "id": "13a8ba47",
        "outputId": "243d041a-4972-423e-bd21-d9cf2ad2766a"
      },
      "outputs": [
        {
          "name": "stdout",
          "output_type": "stream",
          "text": [
            "{'ai': 4, 'play': 1, 'vital': 1, 'role': 1, 'healthcare': 2, 'sector': 1, 'diagnosing': 1, 'diseases': 1, 'quickly': 1, 'accurately': 1, '.': 5, 'new': 2, 'drug': 2, 'discovery': 2, 'faster': 1, 'cost-effective': 1, 'help': 1, 'also': 2, 'enhance': 2, 'patient': 4, 'engagement': 2, 'care': 6, 'make': 1, 'ease': 1, 'appointment': 1, 'scheduling': 1, ',': 13, 'bill': 1, 'paying': 1, 'fewer': 1, 'errors': 2, 'however': 1, 'apart': 1, 'beneficial': 1, 'uses': 1, 'one': 1, 'great': 1, 'challenge': 1, 'ensure': 1, 'adoption': 1, 'daily': 1, 'clinical': 2, 'practices': 1, 'self-service': 1, 'chat': 1, 'bots': 1, 'computer-aided': 1, 'detection': 1, '(': 1, 'cad': 1, ')': 1, 'systems': 1, 'diagnosis': 1, 'image': 1, 'data': 2, 'analysis': 1, 'identify': 1, 'candidate': 1, 'molecules': 1, 'already': 2, 'work': 1, 'increasing': 1, 'convenience': 1, 'efficiency': 1, 'reducing': 1, 'costs': 1, 'generally': 1, 'making': 1, 'easier': 1, 'patients': 1, 'receive': 1, 'health': 2, 'need.while': 1, 'nlp': 1, 'ml': 1, 'used': 1, 'become': 1, 'increasingly': 1, 'important': 1, 'potential': 1, ':': 1, 'improve': 1, 'provider': 1, 'clinician': 1, 'productivity': 1, 'quality': 1, 'streamline': 1, 'access': 1, 'accelerate': 1, 'speed': 1, 'reduce': 1, 'cost': 1, 'develop': 1, 'pharmaceutical': 1, 'treatments': 2, 'personalize': 1, 'medical': 1, 'leveraging': 1, 'analytics': 1, 'mine': 1, 'significant': 1, 'previously': 1, 'untapped': 1, 'stores': 1, 'non-codified': 1}\n"
          ]
        }
      ],
      "source": [
        "print(freqTable)"
      ]
    },
    {
      "cell_type": "code",
      "execution_count": 49,
      "id": "3b5e533e",
      "metadata": {
        "id": "3b5e533e"
      },
      "outputs": [],
      "source": [
        "# Creating a dictionary to keep the score of each sentence\n",
        "sentences = sent_tokenize(content)\n",
        "sentenceValue = dict()\n",
        "   \n",
        "for sentence in sentences:\n",
        "    for word, freq in freqTable.items():\n",
        "        if word in sentence.lower():\n",
        "            if sentence in sentenceValue:\n",
        "                sentenceValue[sentence] += freq\n",
        "            else:\n",
        "                sentenceValue[sentence] = freq\n",
        "   "
      ]
    },
    {
      "cell_type": "code",
      "execution_count": 50,
      "id": "1bb4f10a",
      "metadata": {
        "colab": {
          "base_uri": "https://localhost:8080/"
        },
        "id": "1bb4f10a",
        "outputId": "c511a12e-30c1-4be5-efb5-f3b2798a7d26"
      },
      "outputs": [
        {
          "name": "stdout",
          "output_type": "stream",
          "text": [
            "{'AI will play a vital role in the healthcare sector for diagnosing diseases quickly and more accurately.': 28, 'New drug discovery will be faster and cost-effective with the help of AI.': 19, 'It will also enhance the patient engagement in their care and also make ease appointment scheduling, bill paying, with fewer errors.': 43, 'However, apart from these beneficial uses, one great challenge of AI in healthcare is to ensure its adoption in daily clinical practices.': 45, 'From patient self-service to chat bots, computer-aided detection (CAD) systems for diagnosis, and image data analysis to identify candidate molecules in drug discovery, AI is already at work increasing convenience and efficiency, reducing costs and errors, and generally making it easier for more patients to receive the health care they need.While NLP and ML are already being used in health care, they will become increasingly important for their potential to:Improve provider and clinician productivity and quality of care, Enhance patient engagement in their own care and streamline patient access to care , Accelerate the speed and reduce the cost to develop new pharmaceutical treatments  and Personalize medical treatments by leveraging analytics to mine significant, previously untapped stores of non-codified clinical data.': 112}\n"
          ]
        }
      ],
      "source": [
        "print(sentenceValue)\n"
      ]
    },
    {
      "cell_type": "code",
      "execution_count": 51,
      "id": "6bd9fa39",
      "metadata": {
        "id": "6bd9fa39"
      },
      "outputs": [],
      "source": [
        "sumValues = 0\n",
        "for sentence in sentenceValue:\n",
        "    sumValues += sentenceValue[sentence]\n",
        "   "
      ]
    },
    {
      "cell_type": "code",
      "execution_count": 52,
      "id": "a38c56aa",
      "metadata": {
        "colab": {
          "base_uri": "https://localhost:8080/"
        },
        "id": "a38c56aa",
        "outputId": "0dc6c8ee-8785-420b-aeb6-3612ab05216d"
      },
      "outputs": [
        {
          "name": "stdout",
          "output_type": "stream",
          "text": [
            " From patient self-service to chat bots, computer-aided detection (CAD) systems for diagnosis, and image data analysis to identify candidate molecules in drug discovery, AI is already at work increasing convenience and efficiency, reducing costs and errors, and generally making it easier for more patients to receive the health care they need.While NLP and ML are already being used in health care, they will become increasingly important for their potential to:Improve provider and clinician productivity and quality of care, Enhance patient engagement in their own care and streamline patient access to care , Accelerate the speed and reduce the cost to develop new pharmaceutical treatments  and Personalize medical treatments by leveraging analytics to mine significant, previously untapped stores of non-codified clinical data.\n"
          ]
        }
      ],
      "source": [
        "# Average value of a sentence from the original text\n",
        "   \n",
        "average = int(sumValues / len(sentenceValue))\n",
        "   \n",
        "# Storing sentences into our summary.\n",
        "summary = ''\n",
        "for sentence in sentences:\n",
        "    if (sentence in sentenceValue) and (sentenceValue[sentence] > (1.2 * average)):\n",
        "        summary += \" \" + sentence\n",
        "print(summary)"
      ]
    },
    {
      "cell_type": "code",
      "execution_count": 53,
      "id": "ff5def99",
      "metadata": {
        "colab": {
          "base_uri": "https://localhost:8080/"
        },
        "id": "ff5def99",
        "outputId": "bfb0d6ed-2f58-46e2-f594-d6bb8280bf55"
      },
      "outputs": [
        {
          "data": {
            "text/plain": [
              "833"
            ]
          },
          "execution_count": 53,
          "metadata": {},
          "output_type": "execute_result"
        }
      ],
      "source": [
        "len(summary)"
      ]
    },
    {
      "cell_type": "code",
      "execution_count": 54,
      "id": "2c97c4da",
      "metadata": {
        "id": "2c97c4da"
      },
      "outputs": [],
      "source": [
        "import spacy"
      ]
    },
    {
      "cell_type": "code",
      "execution_count": 55,
      "id": "97988a50",
      "metadata": {
        "id": "97988a50"
      },
      "outputs": [],
      "source": [
        "nlp = spacy.load(\"en_core_web_sm\")"
      ]
    },
    {
      "cell_type": "code",
      "execution_count": 56,
      "id": "0b807d4d",
      "metadata": {
        "id": "0b807d4d"
      },
      "outputs": [],
      "source": [
        "doc = nlp(summary)"
      ]
    },
    {
      "cell_type": "code",
      "execution_count": 57,
      "id": "43320c31",
      "metadata": {
        "colab": {
          "base_uri": "https://localhost:8080/"
        },
        "id": "43320c31",
        "outputId": "6dd41491-386c-41a5-f7a2-1e0f447d2258"
      },
      "outputs": [
        {
          "name": "stdout",
          "output_type": "stream",
          "text": [
            " From patient self-service to chat bots, computer-aided detection (CAD) systems for diagnosis, and image data analysis to identify candidate molecules in drug discovery, AI is already at work increasing convenience and efficiency, reducing costs and errors, and generally making it easier for more patients to receive the health care they need.While NLP and ML are already being used in health care, they will become increasingly important for their potential to:Improve provider and clinician productivity and quality of care, Enhance patient engagement in their own care and streamline patient access to care , Accelerate the speed and reduce the cost to develop new pharmaceutical treatments  and Personalize medical treatments by leveraging analytics to mine significant, previously untapped stores of non-codified clinical data.\n"
          ]
        }
      ],
      "source": [
        "print(doc)"
      ]
    },
    {
      "cell_type": "code",
      "execution_count": 58,
      "id": "edf86d97",
      "metadata": {
        "colab": {
          "base_uri": "https://localhost:8080/"
        },
        "id": "edf86d97",
        "outputId": "553e02d3-4901-4d10-dbdf-acfc41f36431"
      },
      "outputs": [
        {
          "name": "stdout",
          "output_type": "stream",
          "text": [
            "144\n"
          ]
        }
      ],
      "source": [
        "summary_length = len(doc)\n",
        "print(summary_length)"
      ]
    },
    {
      "cell_type": "code",
      "execution_count": 59,
      "id": "80e43ed3",
      "metadata": {
        "id": "80e43ed3"
      },
      "outputs": [],
      "source": [
        "\n",
        "#reading summary obtained from online sources\n",
        "with open (path_online_source, \"r\") as f:\n",
        "    data = f.read()\n",
        "\n"
      ]
    },
    {
      "cell_type": "code",
      "execution_count": 60,
      "id": "694751be",
      "metadata": {
        "id": "694751be"
      },
      "outputs": [],
      "source": [
        "# summarized = nlp(data)"
      ]
    },
    {
      "cell_type": "code",
      "execution_count": 61,
      "id": "3c961184",
      "metadata": {
        "colab": {
          "base_uri": "https://localhost:8080/"
        },
        "id": "3c961184",
        "outputId": "58f46d1a-6838-4342-99f2-8f03869cc1a7"
      },
      "outputs": [
        {
          "name": "stdout",
          "output_type": "stream",
          "text": [
            "However, apart from these beneficial uses, one great challenge of AI in healthcare is to ensure its adoption in daily clinical practices.  From patient self-service to chat bots, computer-aided detection (CAD) systems for diagnosis, and image data analysis to identify candidate molecules in drug discovery, AI is already at work increasing convenience and efficiency, reducing costs and errors, and generally making it easier for more patients to receive the health care they need. While NLP and ML are already being used in health care, they will become increasingly important for their potential to:Improve provider and clinician productivity and quality of care, Enhance patient engagement in their own care and streamline patient access to care , Accelerate the speed and reduce the cost to develop new pharmaceutical treatments  and Personalize medical treatments by leveraging analytics to mine significant, previously untapped stores of non-codified clinical data. \n",
            "\n"
          ]
        }
      ],
      "source": [
        "print(data)"
      ]
    },
    {
      "cell_type": "code",
      "execution_count": 62,
      "id": "8f37af2b",
      "metadata": {
        "id": "8f37af2b"
      },
      "outputs": [],
      "source": [
        "f.close()"
      ]
    },
    {
      "cell_type": "code",
      "execution_count": 63,
      "id": "edf832f1",
      "metadata": {
        "id": "edf832f1"
      },
      "outputs": [],
      "source": [
        "summarized = nlp(data)"
      ]
    },
    {
      "cell_type": "code",
      "execution_count": 64,
      "id": "3d4a8a1e",
      "metadata": {
        "colab": {
          "base_uri": "https://localhost:8080/"
        },
        "id": "3d4a8a1e",
        "outputId": "ecee3582-bb54-4a4f-fcd2-588df244cf2f"
      },
      "outputs": [
        {
          "name": "stdout",
          "output_type": "stream",
          "text": [
            "However, apart from these beneficial uses, one great challenge of AI in healthcare is to ensure its adoption in daily clinical practices.  From patient self-service to chat bots, computer-aided detection (CAD) systems for diagnosis, and image data analysis to identify candidate molecules in drug discovery, AI is already at work increasing convenience and efficiency, reducing costs and errors, and generally making it easier for more patients to receive the health care they need. While NLP and ML are already being used in health care, they will become increasingly important for their potential to:Improve provider and clinician productivity and quality of care, Enhance patient engagement in their own care and streamline patient access to care , Accelerate the speed and reduce the cost to develop new pharmaceutical treatments  and Personalize medical treatments by leveraging analytics to mine significant, previously untapped stores of non-codified clinical data. \n",
            "\n"
          ]
        }
      ],
      "source": [
        "print(summarized)"
      ]
    },
    {
      "cell_type": "code",
      "execution_count": 65,
      "id": "9e9462d4",
      "metadata": {
        "colab": {
          "base_uri": "https://localhost:8080/"
        },
        "id": "9e9462d4",
        "outputId": "44ffc863-c525-421d-8abc-ebc8eaf5092d"
      },
      "outputs": [
        {
          "name": "stdout",
          "output_type": "stream",
          "text": [
            "170\n"
          ]
        }
      ],
      "source": [
        "online_length = len(summarized)\n",
        "print(online_length)"
      ]
    },
    {
      "cell_type": "code",
      "execution_count": 66,
      "id": "082ac864",
      "metadata": {
        "id": "082ac864"
      },
      "outputs": [],
      "source": [
        "import numpy as np \n",
        "import matplotlib.pyplot as plt "
      ]
    },
    {
      "cell_type": "code",
      "execution_count": 67,
      "id": "ed7fbfeb",
      "metadata": {
        "id": "ed7fbfeb"
      },
      "outputs": [],
      "source": [
        "x =[online_length]"
      ]
    },
    {
      "cell_type": "code",
      "execution_count": 68,
      "id": "3b1a834f",
      "metadata": {
        "id": "3b1a834f"
      },
      "outputs": [],
      "source": [
        "y = [summary_length]"
      ]
    },
    {
      "cell_type": "code",
      "execution_count": 69,
      "id": "2309beb6",
      "metadata": {
        "id": "2309beb6"
      },
      "outputs": [],
      "source": [
        "X_axis = np.arange(1)"
      ]
    },
    {
      "cell_type": "code",
      "execution_count": 70,
      "id": "b3c6070c",
      "metadata": {
        "colab": {
          "base_uri": "https://localhost:8080/",
          "height": 472
        },
        "id": "b3c6070c",
        "outputId": "afef2f60-6fa8-4d80-8d15-e6a4a2a8d1f7"
      },
      "outputs": [
        {
          "data": {
            "image/png": "[encoded data removed]",
            "text/plain": [
              "<Figure size 640x480 with 1 Axes>"
            ]
          },
          "metadata": {},
          "output_type": "display_data"
        }
      ],
      "source": [
        "plt.bar(X_axis - 0.3, x, 0.1, label = 'summary_from_online_source')\n",
        "plt.bar(X_axis + 0.3, y, 0.1, label = 'summary from_model')\n",
        "plt.xticks(X_axis)\n",
        "plt.xlabel(\"Models\")\n",
        "plt.ylabel(\"Length of Summary\")\n",
        "plt.title(\"Length of summary from models\")\n",
        "plt.legend()\n",
        "plt.show()"
      ]
    },
    {
      "cell_type": "code",
      "execution_count": 71,
      "id": "aaa9876f",
      "metadata": {
        "id": "aaa9876f"
      },
      "outputs": [],
      "source": [
        "import math\n",
        "import string\n",
        "import sys\n",
        "  "
      ]
    },
    {
      "cell_type": "code",
      "execution_count": 72,
      "id": "aa47ac7d",
      "metadata": {
        "id": "aa47ac7d"
      },
      "outputs": [],
      "source": [
        "# reading the text file\n",
        "# This function will return a list of the lines of text  in the file.\n",
        "def read_file(filename): \n",
        "      \n",
        "    try:\n",
        "        with open(filename, 'r') as f:\n",
        "            data = f.read()\n",
        "        return data\n",
        "      \n",
        "    except IOError:\n",
        "        print(\"Error opening or reading input file: \", filename)\n",
        "        sys.exit()"
      ]
    },
    {
      "cell_type": "code",
      "execution_count": 73,
      "id": "7bb605a7",
      "metadata": {
        "id": "7bb605a7"
      },
      "outputs": [],
      "source": [
        "# splitting the text lines into words\n",
        "# translation table is a global variable mapping upper case to lower case and punctuation to spaces\n",
        "translation_table = str.maketrans(string.punctuation+string.ascii_uppercase,\n",
        "                                     \" \"*len(string.punctuation)+string.ascii_lowercase)"
      ]
    },
    {
      "cell_type": "code",
      "execution_count": 74,
      "id": "a76ae77f",
      "metadata": {
        "id": "a76ae77f"
      },
      "outputs": [],
      "source": [
        "# returns a list of the words in the file\n",
        "def get_words_from_line_list(text): \n",
        "      \n",
        "    text = text.translate(translation_table)\n",
        "    word_list = text.split()\n",
        "      \n",
        "    return word_list"
      ]
    },
    {
      "cell_type": "code",
      "execution_count": 75,
      "id": "09075cbe",
      "metadata": {
        "id": "09075cbe"
      },
      "outputs": [],
      "source": [
        "# counts frequency of each word returns a dictionary which maps the words to  their frequency.\n",
        "def count_frequency(word_list): \n",
        "      \n",
        "    D = {}\n",
        "      \n",
        "    for new_word in word_list:\n",
        "          \n",
        "        if new_word in D:\n",
        "            D[new_word] = D[new_word] + 1\n",
        "              \n",
        "        else:\n",
        "            D[new_word] = 1\n",
        "              \n",
        "    return D"
      ]
    },
    {
      "cell_type": "code",
      "execution_count": 76,
      "id": "27e21f5e",
      "metadata": {
        "id": "27e21f5e"
      },
      "outputs": [],
      "source": [
        "# returns dictionary of (word, frequency) pairs from the previous dictionary.\n",
        "def word_frequencies_for_file(filename): \n",
        "      \n",
        "    line_list = read_file(filename)\n",
        "    word_list = get_words_from_line_list(line_list)\n",
        "    freq_mapping = count_frequency(word_list)\n",
        "  \n",
        "    print(\"File\", filename, \":\", )\n",
        "    print(len(line_list), \"lines, \", )\n",
        "    print(len(word_list), \"words, \", )\n",
        "    print(len(freq_mapping), \"distinct words\")\n",
        "  \n",
        "    return freq_mapping\n",
        "  "
      ]
    },
    {
      "cell_type": "code",
      "execution_count": 77,
      "id": "7fbb84f7",
      "metadata": {
        "id": "7fbb84f7"
      },
      "outputs": [],
      "source": [
        "# returns the dot product of two documents\n",
        "def dotProduct(D1, D2): \n",
        "    Sum = 0.0\n",
        "      \n",
        "    for key in D1:\n",
        "          \n",
        "        if key in D2:\n",
        "            Sum += (D1[key] * D2[key])\n",
        "              \n",
        "    return Sum"
      ]
    },
    {
      "cell_type": "code",
      "execution_count": 78,
      "id": "00e6baff",
      "metadata": {
        "id": "00e6baff"
      },
      "outputs": [],
      "source": [
        "# returns the angle in radians between document vectors\n",
        "def vector_angle(D1, D2): \n",
        "    numerator = dotProduct(D1, D2)\n",
        "    denominator = math.sqrt(dotProduct(D1, D1)*dotProduct(D2, D2))\n",
        "      \n",
        "    return math.acos(numerator / denominator)"
      ]
    },
    {
      "cell_type": "code",
      "execution_count": 79,
      "id": "5f1ca9cb",
      "metadata": {
        "id": "5f1ca9cb"
      },
      "outputs": [],
      "source": [
        "def documentSimilarity(filename_1, filename_2):\n",
        "    \n",
        "    sorted_word_list_1 = word_frequencies_for_file(filename_1)\n",
        "    sorted_word_list_2 = word_frequencies_for_file(filename_2)\n",
        "    distance = vector_angle(sorted_word_list_1, sorted_word_list_2)\n",
        "      \n",
        "    print(\"The distance between the documents is: % 0.6f (radians)\"% distance)\n",
        "      "
      ]
    },
    {
      "cell_type": "code",
      "execution_count": 80,
      "id": "125f7f08",
      "metadata": {
        "id": "125f7f08"
      },
      "outputs": [],
      "source": [
        "with open (path_model_source, \"a\") as f:\n",
        "    f.write(summary)"
      ]
    },
    {
      "cell_type": "code",
      "execution_count": 81,
      "id": "a938e0e4",
      "metadata": {
        "id": "a938e0e4"
      },
      "outputs": [],
      "source": [
        "f.close()"
      ]
    }
  ],
  "metadata": {
    "colab": {
      "provenance": [],
      "toc_visible": true
    },
    "kernelspec": {
      "display_name": "Python 3",
      "language": "python",
      "name": "python3"
    },
    "language_info": {
      "codemirror_mode": {
        "name": "ipython",
        "version": 3
      },
      "file_extension": ".py",
      "mimetype": "text/x-python",
      "name": "python",
      "nbconvert_exporter": "python",
      "pygments_lexer": "ipython3",
      "version": "3.11.2"
    },
    "vscode": {
      "interpreter": {
        "hash": "b9343f1336c786d23692422f973e965c5ec99db151d28876026752b5c8f24905"
      }
    }
  },
  "nbformat": 4,
  "nbformat_minor": 5
}
