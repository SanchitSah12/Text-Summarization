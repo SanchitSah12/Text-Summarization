{
  "cells": [
    {
      "cell_type": "code",
      "execution_count": 81,
      "id": "c163ecfb",
      "metadata": {
        "colab": {
          "base_uri": "https://localhost:8080/"
        },
        "id": "c163ecfb",
        "outputId": "76792533-b7d1-4a8d-d146-8695b79b71e1"
      },
      "outputs": [
        {
          "name": "stdout",
          "output_type": "stream",
          "text": [
            "Artificial intelligence (AI) is intelligence demonstrated by machines, as opposed to intelligence of humans and other animals. Example tasks in which this is done include speech recognition, computer vision, translation between (natural) languages, as well as other mappings of inputs.\n",
            "AI applications include advanced web search engines (e.g., Google Search), recommendation systems (used by YouTube, Amazon, and Netflix), understanding human speech (such as Siri and Alexa), self-driving cars (e.g., Waymo), generative or creative tools (ChatGPT and AI art), automated decision-making, and competing at the highest level in strategic game systems (such as chess and Go).\n",
            "As machines become increasingly capable, tasks considered to require \"intelligence\" are often removed from the definition of AI, a phenomenon known as the AI effect. For instance, optical character recognition is frequently excluded from things considered to be AI, having become a routine technology.\n",
            "Artificial intelligence was founded as an academic discipline in 1956, and in the years since it has experienced several waves of optimism, followed by disappointment and the loss of funding (known as an \"AI winter\"), followed by new approaches, success, and renewed funding. AI research has tried and discarded many different approaches, including simulating the brain, modeling human problem solving, formal logic, large databases of knowledge, and imitating animal behavior. In the first decades of the 21st century, highly mathematical and statistical machine learning has dominated the field, and this technique has proved highly successful, helping to solve many challenging problems throughout industry and academia.\n",
            "\n",
            "The various sub-fields of AI research are centered around particular goals and the use of particular tools. The traditional goals of AI research include reasoning, knowledge representation, planning, learning, natural language processing, perception, and the ability to move and manipulate objects. General intelligence (the ability to solve an arbitrary problem) is among the field's long-term goals. To solve these problems, AI researchers have adapted and integrated a wide range of problem-solving techniques, including search and mathematical optimization, formal logic, artificial neural networks, and methods based on statistics, probability, and economics. AI also draws upon computer science, psychology, linguistics, philosophy, and many other fields.\n",
            "\n",
            "The field was founded on the assumption that human intelligence \"can be so precisely described that a machine can be made to simulate it\". This raised philosophical arguments about the mind and the ethical consequences of creating artificial beings endowed with human-like intelligence; these issues have previously been explored by myth, fiction, and philosophy since antiquity. Computer scientists and philosophers have since suggested that AI may become an existential risk to humanity if its rational capacities are not steered towards beneficial goals. The term artificial intelligence has also been criticized for overhyping AI's true technological capabilities.\n"
          ]
        }
      ],
      "source": [
        "f = open(\"text1.txt\",\"r\")\n",
        "content = f.read()\n",
        "print(content)\n",
        "path_online_source = \"summarized_from_online_source.txt\"\n",
        "path_model_source = \"summary_from_model.txt\"\n",
        "text_path = \"text1.txt\""
      ]
    },
    {
      "cell_type": "code",
      "execution_count": 82,
      "id": "4f038a8c",
      "metadata": {
        "colab": {
          "base_uri": "https://localhost:8080/"
        },
        "id": "4f038a8c",
        "outputId": "57013c5a-1280-414e-aa16-083a551d6e39"
      },
      "outputs": [
        {
          "name": "stderr",
          "output_type": "stream",
          "text": [
            "[nltk_data] Downloading package stopwords to\n",
            "[nltk_data]     C:\\Users\\Sahsa\\AppData\\Roaming\\nltk_data...\n",
            "[nltk_data]   Package stopwords is already up-to-date!\n",
            "[nltk_data] Downloading package punkt to\n",
            "[nltk_data]     C:\\Users\\Sahsa\\AppData\\Roaming\\nltk_data...\n",
            "[nltk_data]   Package punkt is already up-to-date!\n"
          ]
        }
      ],
      "source": [
        "import nltk\n",
        "nltk.download('stopwords')\n",
        "nltk.download('punkt')\n",
        "from nltk.corpus import stopwords\n",
        "from nltk.tokenize import word_tokenize, sent_tokenize"
      ]
    },
    {
      "cell_type": "code",
      "execution_count": 83,
      "id": "74988d37",
      "metadata": {
        "colab": {
          "base_uri": "https://localhost:8080/"
        },
        "id": "74988d37",
        "outputId": "0dd214a8-6701-411e-fb10-fc11d29759c1"
      },
      "outputs": [
        {
          "name": "stdout",
          "output_type": "stream",
          "text": [
            "{'won', 'an', 'off', 'having', 'but', 'and', 'down', 'that', 'has', 'do', 'd', \"isn't\", 'so', 'why', 'being', 'all', 'can', 'their', 'if', \"wouldn't\", 'own', 'doesn', 'at', 'below', 'there', 'once', 'its', 'until', 'of', \"aren't\", 'about', 'the', 'hasn', \"wasn't\", \"haven't\", 'mightn', \"you've\", 'she', 'themselves', 'weren', 'same', 'did', 'your', 'will', 'doing', 'they', \"mustn't\", 'any', 'then', 'had', 'some', 'or', 'was', 'he', 't', 'should', 'those', 'both', 'me', \"shouldn't\", \"that'll\", \"didn't\", 'does', 'out', 'm', 'hers', 'ours', 'is', 'him', 'only', 'needn', 'are', 'as', 'each', 'this', \"don't\", 'couldn', \"you're\", 's', 'myself', 'yours', 'after', 'here', 'for', 're', 'on', \"hadn't\", \"couldn't\", \"she's\", 'very', \"should've\", 'you', 'during', 'further', 'other', 'i', 'nor', 'have', 'don', 'to', 'not', 'no', 'them', 'through', 'be', 'again', 'against', 'wasn', 'haven', 'while', 'whom', 'under', 'ourselves', 'herself', 'our', 'wouldn', 'my', 'his', 'over', 'few', 'hadn', \"won't\", 'shouldn', \"weren't\", 'y', 'these', 'shan', 'where', 'such', 'most', \"needn't\", 'himself', \"you'd\", 've', 'into', 'didn', 'between', 'itself', \"shan't\", 'than', 'll', 'her', 'who', 'what', \"hasn't\", 'in', 'yourself', 'isn', 'from', \"doesn't\", 'theirs', 'too', 'aren', 'ain', 'been', 'am', 'how', 'o', 'ma', 'now', 'a', \"it's\", 'because', 'it', 'which', 'by', 'we', 'when', 'above', 'with', 'were', 'yourselves', 'up', 'before', 'just', 'more', 'mustn', \"mightn't\", \"you'll\"}\n",
            "\n",
            "['Artificial', 'intelligence', '(', 'AI', ')', 'is', 'intelligence', 'demonstrated', 'by', 'machines', ',', 'as', 'opposed', 'to', 'intelligence', 'of', 'humans', 'and', 'other', 'animals', '.', 'Example', 'tasks', 'in', 'which', 'this', 'is', 'done', 'include', 'speech', 'recognition', ',', 'computer', 'vision', ',', 'translation', 'between', '(', 'natural', ')', 'languages', ',', 'as', 'well', 'as', 'other', 'mappings', 'of', 'inputs', '.', 'AI', 'applications', 'include', 'advanced', 'web', 'search', 'engines', '(', 'e.g.', ',', 'Google', 'Search', ')', ',', 'recommendation', 'systems', '(', 'used', 'by', 'YouTube', ',', 'Amazon', ',', 'and', 'Netflix', ')', ',', 'understanding', 'human', 'speech', '(', 'such', 'as', 'Siri', 'and', 'Alexa', ')', ',', 'self-driving', 'cars', '(', 'e.g.', ',', 'Waymo', ')', ',', 'generative', 'or', 'creative', 'tools', '(', 'ChatGPT', 'and', 'AI', 'art', ')', ',', 'automated', 'decision-making', ',', 'and', 'competing', 'at', 'the', 'highest', 'level', 'in', 'strategic', 'game', 'systems', '(', 'such', 'as', 'chess', 'and', 'Go', ')', '.', 'As', 'machines', 'become', 'increasingly', 'capable', ',', 'tasks', 'considered', 'to', 'require', '``', 'intelligence', \"''\", 'are', 'often', 'removed', 'from', 'the', 'definition', 'of', 'AI', ',', 'a', 'phenomenon', 'known', 'as', 'the', 'AI', 'effect', '.', 'For', 'instance', ',', 'optical', 'character', 'recognition', 'is', 'frequently', 'excluded', 'from', 'things', 'considered', 'to', 'be', 'AI', ',', 'having', 'become', 'a', 'routine', 'technology', '.', 'Artificial', 'intelligence', 'was', 'founded', 'as', 'an', 'academic', 'discipline', 'in', '1956', ',', 'and', 'in', 'the', 'years', 'since', 'it', 'has', 'experienced', 'several', 'waves', 'of', 'optimism', ',', 'followed', 'by', 'disappointment', 'and', 'the', 'loss', 'of', 'funding', '(', 'known', 'as', 'an', '``', 'AI', 'winter', \"''\", ')', ',', 'followed', 'by', 'new', 'approaches', ',', 'success', ',', 'and', 'renewed', 'funding', '.', 'AI', 'research', 'has', 'tried', 'and', 'discarded', 'many', 'different', 'approaches', ',', 'including', 'simulating', 'the', 'brain', ',', 'modeling', 'human', 'problem', 'solving', ',', 'formal', 'logic', ',', 'large', 'databases', 'of', 'knowledge', ',', 'and', 'imitating', 'animal', 'behavior', '.', 'In', 'the', 'first', 'decades', 'of', 'the', '21st', 'century', ',', 'highly', 'mathematical', 'and', 'statistical', 'machine', 'learning', 'has', 'dominated', 'the', 'field', ',', 'and', 'this', 'technique', 'has', 'proved', 'highly', 'successful', ',', 'helping', 'to', 'solve', 'many', 'challenging', 'problems', 'throughout', 'industry', 'and', 'academia', '.', 'The', 'various', 'sub-fields', 'of', 'AI', 'research', 'are', 'centered', 'around', 'particular', 'goals', 'and', 'the', 'use', 'of', 'particular', 'tools', '.', 'The', 'traditional', 'goals', 'of', 'AI', 'research', 'include', 'reasoning', ',', 'knowledge', 'representation', ',', 'planning', ',', 'learning', ',', 'natural', 'language', 'processing', ',', 'perception', ',', 'and', 'the', 'ability', 'to', 'move', 'and', 'manipulate', 'objects', '.', 'General', 'intelligence', '(', 'the', 'ability', 'to', 'solve', 'an', 'arbitrary', 'problem', ')', 'is', 'among', 'the', 'field', \"'s\", 'long-term', 'goals', '.', 'To', 'solve', 'these', 'problems', ',', 'AI', 'researchers', 'have', 'adapted', 'and', 'integrated', 'a', 'wide', 'range', 'of', 'problem-solving', 'techniques', ',', 'including', 'search', 'and', 'mathematical', 'optimization', ',', 'formal', 'logic', ',', 'artificial', 'neural', 'networks', ',', 'and', 'methods', 'based', 'on', 'statistics', ',', 'probability', ',', 'and', 'economics', '.', 'AI', 'also', 'draws', 'upon', 'computer', 'science', ',', 'psychology', ',', 'linguistics', ',', 'philosophy', ',', 'and', 'many', 'other', 'fields', '.', 'The', 'field', 'was', 'founded', 'on', 'the', 'assumption', 'that', 'human', 'intelligence', '``', 'can', 'be', 'so', 'precisely', 'described', 'that', 'a', 'machine', 'can', 'be', 'made', 'to', 'simulate', 'it', \"''\", '.', 'This', 'raised', 'philosophical', 'arguments', 'about', 'the', 'mind', 'and', 'the', 'ethical', 'consequences', 'of', 'creating', 'artificial', 'beings', 'endowed', 'with', 'human-like', 'intelligence', ';', 'these', 'issues', 'have', 'previously', 'been', 'explored', 'by', 'myth', ',', 'fiction', ',', 'and', 'philosophy', 'since', 'antiquity', '.', 'Computer', 'scientists', 'and', 'philosophers', 'have', 'since', 'suggested', 'that', 'AI', 'may', 'become', 'an', 'existential', 'risk', 'to', 'humanity', 'if', 'its', 'rational', 'capacities', 'are', 'not', 'steered', 'towards', 'beneficial', 'goals', '.', 'The', 'term', 'artificial', 'intelligence', 'has', 'also', 'been', 'criticized', 'for', 'overhyping', 'AI', \"'s\", 'true', 'technological', 'capabilities', '.']\n"
          ]
        }
      ],
      "source": [
        "# Tokenizing the text\n",
        "\n",
        "stopWords = set(stopwords.words(\"english\"))\n",
        "words = word_tokenize(content)\n",
        "print(stopWords)\n",
        "print()\n",
        "print(words)"
      ]
    },
    {
      "cell_type": "code",
      "execution_count": 84,
      "id": "771257c6",
      "metadata": {
        "id": "771257c6"
      },
      "outputs": [],
      "source": [
        "# Creating a frequency table to keep the \n",
        "# score of each word\n",
        "   \n",
        "freqTable = dict()\n",
        "for word in words:\n",
        "    word = word.lower()\n",
        "    if word in stopWords:\n",
        "        continue\n",
        "    if word in freqTable:\n",
        "        freqTable[word] += 1\n",
        "    else:\n",
        "        freqTable[word] = 1"
      ]
    },
    {
      "cell_type": "code",
      "execution_count": 85,
      "id": "13a8ba47",
      "metadata": {
        "colab": {
          "base_uri": "https://localhost:8080/"
        },
        "id": "13a8ba47",
        "outputId": "1973a1f8-0c09-40b8-99c7-4c01076e3711"
      },
      "outputs": [
        {
          "name": "stdout",
          "output_type": "stream",
          "text": [
            "{'artificial': 5, 'intelligence': 9, '(': 10, 'ai': 14, ')': 10, 'demonstrated': 1, 'machines': 2, ',': 50, 'opposed': 1, 'humans': 1, 'animals': 1, '.': 17, 'example': 1, 'tasks': 2, 'done': 1, 'include': 3, 'speech': 2, 'recognition': 2, 'computer': 3, 'vision': 1, 'translation': 1, 'natural': 2, 'languages': 1, 'well': 1, 'mappings': 1, 'inputs': 1, 'applications': 1, 'advanced': 1, 'web': 1, 'search': 3, 'engines': 1, 'e.g.': 2, 'google': 1, 'recommendation': 1, 'systems': 2, 'used': 1, 'youtube': 1, 'amazon': 1, 'netflix': 1, 'understanding': 1, 'human': 3, 'siri': 1, 'alexa': 1, 'self-driving': 1, 'cars': 1, 'waymo': 1, 'generative': 1, 'creative': 1, 'tools': 2, 'chatgpt': 1, 'art': 1, 'automated': 1, 'decision-making': 1, 'competing': 1, 'highest': 1, 'level': 1, 'strategic': 1, 'game': 1, 'chess': 1, 'go': 1, 'become': 3, 'increasingly': 1, 'capable': 1, 'considered': 2, 'require': 1, '``': 3, \"''\": 3, 'often': 1, 'removed': 1, 'definition': 1, 'phenomenon': 1, 'known': 2, 'effect': 1, 'instance': 1, 'optical': 1, 'character': 1, 'frequently': 1, 'excluded': 1, 'things': 1, 'routine': 1, 'technology': 1, 'founded': 2, 'academic': 1, 'discipline': 1, '1956': 1, 'years': 1, 'since': 3, 'experienced': 1, 'several': 1, 'waves': 1, 'optimism': 1, 'followed': 2, 'disappointment': 1, 'loss': 1, 'funding': 2, 'winter': 1, 'new': 1, 'approaches': 2, 'success': 1, 'renewed': 1, 'research': 3, 'tried': 1, 'discarded': 1, 'many': 3, 'different': 1, 'including': 2, 'simulating': 1, 'brain': 1, 'modeling': 1, 'problem': 2, 'solving': 1, 'formal': 2, 'logic': 2, 'large': 1, 'databases': 1, 'knowledge': 2, 'imitating': 1, 'animal': 1, 'behavior': 1, 'first': 1, 'decades': 1, '21st': 1, 'century': 1, 'highly': 2, 'mathematical': 2, 'statistical': 1, 'machine': 2, 'learning': 2, 'dominated': 1, 'field': 3, 'technique': 1, 'proved': 1, 'successful': 1, 'helping': 1, 'solve': 3, 'challenging': 1, 'problems': 2, 'throughout': 1, 'industry': 1, 'academia': 1, 'various': 1, 'sub-fields': 1, 'centered': 1, 'around': 1, 'particular': 2, 'goals': 4, 'use': 1, 'traditional': 1, 'reasoning': 1, 'representation': 1, 'planning': 1, 'language': 1, 'processing': 1, 'perception': 1, 'ability': 2, 'move': 1, 'manipulate': 1, 'objects': 1, 'general': 1, 'arbitrary': 1, 'among': 1, \"'s\": 2, 'long-term': 1, 'researchers': 1, 'adapted': 1, 'integrated': 1, 'wide': 1, 'range': 1, 'problem-solving': 1, 'techniques': 1, 'optimization': 1, 'neural': 1, 'networks': 1, 'methods': 1, 'based': 1, 'statistics': 1, 'probability': 1, 'economics': 1, 'also': 2, 'draws': 1, 'upon': 1, 'science': 1, 'psychology': 1, 'linguistics': 1, 'philosophy': 2, 'fields': 1, 'assumption': 1, 'precisely': 1, 'described': 1, 'made': 1, 'simulate': 1, 'raised': 1, 'philosophical': 1, 'arguments': 1, 'mind': 1, 'ethical': 1, 'consequences': 1, 'creating': 1, 'beings': 1, 'endowed': 1, 'human-like': 1, ';': 1, 'issues': 1, 'previously': 1, 'explored': 1, 'myth': 1, 'fiction': 1, 'antiquity': 1, 'scientists': 1, 'philosophers': 1, 'suggested': 1, 'may': 1, 'existential': 1, 'risk': 1, 'humanity': 1, 'rational': 1, 'capacities': 1, 'steered': 1, 'towards': 1, 'beneficial': 1, 'term': 1, 'criticized': 1, 'overhyping': 1, 'true': 1, 'technological': 1, 'capabilities': 1}\n"
          ]
        }
      ],
      "source": [
        "print(freqTable)"
      ]
    },
    {
      "cell_type": "code",
      "execution_count": 86,
      "id": "3b5e533e",
      "metadata": {
        "id": "3b5e533e"
      },
      "outputs": [],
      "source": [
        "# Creating a dictionary to keep the score of each sentence\n",
        "sentences = sent_tokenize(content)\n",
        "sentenceValue = dict()\n",
        "   \n",
        "for sentence in sentences:\n",
        "    for word, freq in freqTable.items():\n",
        "        if word in sentence.lower():\n",
        "            if sentence in sentenceValue:\n",
        "                sentenceValue[sentence] += freq\n",
        "            else:\n",
        "                sentenceValue[sentence] = freq\n",
        "   "
      ]
    },
    {
      "cell_type": "code",
      "execution_count": 87,
      "id": "1bb4f10a",
      "metadata": {
        "colab": {
          "base_uri": "https://localhost:8080/"
        },
        "id": "1bb4f10a",
        "outputId": "06779c35-ebb3-4831-cc57-0b057142967e"
      },
      "outputs": [
        {
          "name": "stdout",
          "output_type": "stream",
          "text": [
            "{'Artificial intelligence (AI) is intelligence demonstrated by machines, as opposed to intelligence of humans and other animals.': 128, 'Example tasks in which this is done include speech recognition, computer vision, translation between (natural) languages, as well as other mappings of inputs.': 110, 'AI applications include advanced web search engines (e.g., Google Search), recommendation systems (used by YouTube, Amazon, and Netflix), understanding human speech (such as Siri and Alexa), self-driving cars (e.g., Waymo), generative or creative tools (ChatGPT and AI art), automated decision-making, and competing at the highest level in strategic game systems (such as chess and Go).': 148, 'As machines become increasingly capable, tasks considered to require \"intelligence\" are often removed from the definition of AI, a phenomenon known as the AI effect.': 112, 'For instance, optical character recognition is frequently excluded from things considered to be AI, having become a routine technology.': 96, 'Artificial intelligence was founded as an academic discipline in 1956, and in the years since it has experienced several waves of optimism, followed by disappointment and the loss of funding (known as an \"AI winter\"), followed by new approaches, success, and renewed funding.': 143, 'AI research has tried and discarded many different approaches, including simulating the brain, modeling human problem solving, formal logic, large databases of knowledge, and imitating animal behavior.': 117, 'In the first decades of the 21st century, highly mathematical and statistical machine learning has dominated the field, and this technique has proved highly successful, helping to solve many challenging problems throughout industry and academia.': 103, 'The various sub-fields of AI research are centered around particular goals and the use of particular tools.': 56, 'The traditional goals of AI research include reasoning, knowledge representation, planning, learning, natural language processing, perception, and the ability to move and manipulate objects.': 113, \"General intelligence (the ability to solve an arbitrary problem) is among the field's long-term goals.\": 68, 'To solve these problems, AI researchers have adapted and integrated a wide range of problem-solving techniques, including search and mathematical optimization, formal logic, artificial neural networks, and methods based on statistics, probability, and economics.': 127, 'AI also draws upon computer science, psychology, linguistics, philosophy, and many other fields.': 100, 'The field was founded on the assumption that human intelligence \"can be so precisely described that a machine can be made to simulate it\".': 41, 'This raised philosophical arguments about the mind and the ethical consequences of creating artificial beings endowed with human-like intelligence; these issues have previously been explored by myth, fiction, and philosophy since antiquity.': 121, 'Computer scientists and philosophers have since suggested that AI may become an existential risk to humanity if its rational capacities are not steered towards beneficial goals.': 60, \"The term artificial intelligence has also been criticized for overhyping AI's true technological capabilities.\": 58}\n"
          ]
        }
      ],
      "source": [
        "print(sentenceValue)\n"
      ]
    },
    {
      "cell_type": "code",
      "execution_count": 88,
      "id": "6bd9fa39",
      "metadata": {
        "id": "6bd9fa39"
      },
      "outputs": [],
      "source": [
        "sumValues = 0\n",
        "for sentence in sentenceValue:\n",
        "    sumValues += sentenceValue[sentence]\n",
        "   "
      ]
    },
    {
      "cell_type": "code",
      "execution_count": 89,
      "id": "a38c56aa",
      "metadata": {
        "colab": {
          "base_uri": "https://localhost:8080/"
        },
        "id": "a38c56aa",
        "outputId": "ea0e03e2-5497-41d9-fda0-9c9e6bb0dfa0"
      },
      "outputs": [
        {
          "name": "stdout",
          "output_type": "stream",
          "text": [
            " Artificial intelligence (AI) is intelligence demonstrated by machines, as opposed to intelligence of humans and other animals. AI applications include advanced web search engines (e.g., Google Search), recommendation systems (used by YouTube, Amazon, and Netflix), understanding human speech (such as Siri and Alexa), self-driving cars (e.g., Waymo), generative or creative tools (ChatGPT and AI art), automated decision-making, and competing at the highest level in strategic game systems (such as chess and Go). Artificial intelligence was founded as an academic discipline in 1956, and in the years since it has experienced several waves of optimism, followed by disappointment and the loss of funding (known as an \"AI winter\"), followed by new approaches, success, and renewed funding. To solve these problems, AI researchers have adapted and integrated a wide range of problem-solving techniques, including search and mathematical optimization, formal logic, artificial neural networks, and methods based on statistics, probability, and economics. This raised philosophical arguments about the mind and the ethical consequences of creating artificial beings endowed with human-like intelligence; these issues have previously been explored by myth, fiction, and philosophy since antiquity.\n"
          ]
        }
      ],
      "source": [
        "# Average value of a sentence from the original text\n",
        "   \n",
        "average = int(sumValues / len(sentenceValue))\n",
        "   \n",
        "# Storing sentences into our summary.\n",
        "summary = ''\n",
        "for sentence in sentences:\n",
        "    if (sentence in sentenceValue) and (sentenceValue[sentence] > (1.2 * average)):\n",
        "        summary += \" \" + sentence\n",
        "print(summary)"
      ]
    },
    {
      "cell_type": "code",
      "execution_count": 90,
      "id": "ff5def99",
      "metadata": {
        "colab": {
          "base_uri": "https://localhost:8080/"
        },
        "id": "ff5def99",
        "outputId": "26c5caf2-da6c-452a-9b43-e6f1e2d7309f"
      },
      "outputs": [
        {
          "data": {
            "text/plain": [
              "1294"
            ]
          },
          "execution_count": 90,
          "metadata": {},
          "output_type": "execute_result"
        }
      ],
      "source": [
        "len(summary)"
      ]
    },
    {
      "cell_type": "code",
      "execution_count": 91,
      "id": "2c97c4da",
      "metadata": {
        "colab": {
          "base_uri": "https://localhost:8080/"
        },
        "id": "2c97c4da",
        "outputId": "34b0cb96-e39f-4a5c-b862-99fb86149d48"
      },
      "outputs": [],
      "source": [
        "import spacy"
      ]
    },
    {
      "cell_type": "code",
      "execution_count": 92,
      "id": "97988a50",
      "metadata": {
        "id": "97988a50"
      },
      "outputs": [],
      "source": [
        "nlp = spacy.load(\"en_core_web_sm\")"
      ]
    },
    {
      "cell_type": "code",
      "execution_count": 93,
      "id": "0b807d4d",
      "metadata": {
        "id": "0b807d4d"
      },
      "outputs": [],
      "source": [
        "doc = nlp(summary)"
      ]
    },
    {
      "cell_type": "code",
      "execution_count": 94,
      "id": "43320c31",
      "metadata": {
        "colab": {
          "base_uri": "https://localhost:8080/"
        },
        "id": "43320c31",
        "outputId": "d03fd4e7-e682-457d-e83c-4c4bb2aeafa3"
      },
      "outputs": [
        {
          "name": "stdout",
          "output_type": "stream",
          "text": [
            " Artificial intelligence (AI) is intelligence demonstrated by machines, as opposed to intelligence of humans and other animals. AI applications include advanced web search engines (e.g., Google Search), recommendation systems (used by YouTube, Amazon, and Netflix), understanding human speech (such as Siri and Alexa), self-driving cars (e.g., Waymo), generative or creative tools (ChatGPT and AI art), automated decision-making, and competing at the highest level in strategic game systems (such as chess and Go). Artificial intelligence was founded as an academic discipline in 1956, and in the years since it has experienced several waves of optimism, followed by disappointment and the loss of funding (known as an \"AI winter\"), followed by new approaches, success, and renewed funding. To solve these problems, AI researchers have adapted and integrated a wide range of problem-solving techniques, including search and mathematical optimization, formal logic, artificial neural networks, and methods based on statistics, probability, and economics. This raised philosophical arguments about the mind and the ethical consequences of creating artificial beings endowed with human-like intelligence; these issues have previously been explored by myth, fiction, and philosophy since antiquity.\n"
          ]
        }
      ],
      "source": [
        "print(doc)"
      ]
    },
    {
      "cell_type": "code",
      "execution_count": 95,
      "id": "edf86d97",
      "metadata": {
        "colab": {
          "base_uri": "https://localhost:8080/"
        },
        "id": "edf86d97",
        "outputId": "69a9aa5c-5f30-455a-def9-f143bc47e795"
      },
      "outputs": [
        {
          "name": "stdout",
          "output_type": "stream",
          "text": [
            "239\n"
          ]
        }
      ],
      "source": [
        "summary_length = len(doc)\n",
        "print(summary_length)"
      ]
    },
    {
      "cell_type": "code",
      "execution_count": 96,
      "id": "80e43ed3",
      "metadata": {
        "id": "80e43ed3"
      },
      "outputs": [],
      "source": [
        "\n",
        "#reading summary obtained from online sources\n",
        "with open (path_online_source, \"r\") as f:\n",
        "    data = f.read()\n",
        "\n"
      ]
    },
    {
      "cell_type": "code",
      "execution_count": 97,
      "id": "694751be",
      "metadata": {
        "id": "694751be"
      },
      "outputs": [],
      "source": [
        "# summarized = nlp(data)"
      ]
    },
    {
      "cell_type": "code",
      "execution_count": 98,
      "id": "3c961184",
      "metadata": {
        "colab": {
          "base_uri": "https://localhost:8080/"
        },
        "id": "3c961184",
        "outputId": "938652a8-c7e0-4cde-f42b-396a658ee8aa"
      },
      "outputs": [
        {
          "name": "stdout",
          "output_type": "stream",
          "text": [
            "AI is the intelligence demonstrated by machines, as opposed to humans and other animals. Examples of AI tasks include speech recognition, computer vision, translation between languages, and other mappings of inputs. AI applications include advanced web search engines, recommendation systems, understanding human speech, self-driving cars, generative or creative tools, automated decision-making, and competing at the highest level in strategic game systems. AI was founded in 1956 and has experienced several waves of optimism, followed by disappointment and the loss of funding, followed by new approaches, success, and renewed funding. AI research has tried and discarded many different approaches, including simulating the brain, modeling human problem solving, formal logic, large databases of knowledge, and imitating animal behavior.\n",
            "\n",
            "AI research has been dominated by highly mathematical and statistical machine learning in the first decades of the 21st century. It has been successful in solving many challenging problems throughout industry and academia. AI researchers have adapted and integrated a wide range of problem-solving techniques, including search and mathematical optimization, formal logic, artificial neural networks, and methods based on statistics, probability, and economics. AI also draws upon computer science, psychology, linguistics, philosophy, and many other fields. The field was founded on the assumption that human intelligence can be so precisely described that a machine can be made to simulate it, raising philosophical arguments about the mind and the ethical consequences of creating artificial beings endowed with human-like intelligence.\n",
            "\n",
            "Computer scientists and philosophers have suggested that AI may become an existential risk to humanity if its rational capacities are not steered towards beneficial goals. AI has also been criticized for overhyping its true technological capabilities.\n"
          ]
        }
      ],
      "source": [
        "print(data)"
      ]
    },
    {
      "cell_type": "code",
      "execution_count": 99,
      "id": "8f37af2b",
      "metadata": {
        "id": "8f37af2b"
      },
      "outputs": [],
      "source": [
        "f.close()"
      ]
    },
    {
      "cell_type": "code",
      "execution_count": 100,
      "id": "edf832f1",
      "metadata": {
        "id": "edf832f1"
      },
      "outputs": [],
      "source": [
        "summarized = nlp(data)"
      ]
    },
    {
      "cell_type": "code",
      "execution_count": 101,
      "id": "3d4a8a1e",
      "metadata": {
        "colab": {
          "base_uri": "https://localhost:8080/"
        },
        "id": "3d4a8a1e",
        "outputId": "cc5dc324-8439-454e-9565-154feb290ee8"
      },
      "outputs": [
        {
          "name": "stdout",
          "output_type": "stream",
          "text": [
            "AI is the intelligence demonstrated by machines, as opposed to humans and other animals. Examples of AI tasks include speech recognition, computer vision, translation between languages, and other mappings of inputs. AI applications include advanced web search engines, recommendation systems, understanding human speech, self-driving cars, generative or creative tools, automated decision-making, and competing at the highest level in strategic game systems. AI was founded in 1956 and has experienced several waves of optimism, followed by disappointment and the loss of funding, followed by new approaches, success, and renewed funding. AI research has tried and discarded many different approaches, including simulating the brain, modeling human problem solving, formal logic, large databases of knowledge, and imitating animal behavior.\n",
            "\n",
            "AI research has been dominated by highly mathematical and statistical machine learning in the first decades of the 21st century. It has been successful in solving many challenging problems throughout industry and academia. AI researchers have adapted and integrated a wide range of problem-solving techniques, including search and mathematical optimization, formal logic, artificial neural networks, and methods based on statistics, probability, and economics. AI also draws upon computer science, psychology, linguistics, philosophy, and many other fields. The field was founded on the assumption that human intelligence can be so precisely described that a machine can be made to simulate it, raising philosophical arguments about the mind and the ethical consequences of creating artificial beings endowed with human-like intelligence.\n",
            "\n",
            "Computer scientists and philosophers have suggested that AI may become an existential risk to humanity if its rational capacities are not steered towards beneficial goals. AI has also been criticized for overhyping its true technological capabilities.\n"
          ]
        }
      ],
      "source": [
        "print(summarized)"
      ]
    },
    {
      "cell_type": "code",
      "execution_count": 102,
      "id": "9e9462d4",
      "metadata": {
        "colab": {
          "base_uri": "https://localhost:8080/"
        },
        "id": "9e9462d4",
        "outputId": "8cc9e17b-a7c7-456f-c850-bb4815ca91a9"
      },
      "outputs": [
        {
          "name": "stdout",
          "output_type": "stream",
          "text": [
            "322\n"
          ]
        }
      ],
      "source": [
        "online_length = len(summarized)\n",
        "print(online_length)"
      ]
    },
    {
      "cell_type": "code",
      "execution_count": 103,
      "id": "082ac864",
      "metadata": {
        "id": "082ac864"
      },
      "outputs": [],
      "source": [
        "import numpy as np \n",
        "import matplotlib.pyplot as plt "
      ]
    },
    {
      "cell_type": "code",
      "execution_count": 104,
      "id": "ed7fbfeb",
      "metadata": {
        "id": "ed7fbfeb"
      },
      "outputs": [],
      "source": [
        "x =[online_length]"
      ]
    },
    {
      "cell_type": "code",
      "execution_count": 105,
      "id": "3b1a834f",
      "metadata": {
        "id": "3b1a834f"
      },
      "outputs": [],
      "source": [
        "y = [summary_length]"
      ]
    },
    {
      "cell_type": "code",
      "execution_count": 106,
      "id": "2309beb6",
      "metadata": {
        "id": "2309beb6"
      },
      "outputs": [],
      "source": [
        "X_axis = np.arange(1)"
      ]
    },
    {
      "cell_type": "code",
      "execution_count": 107,
      "id": "b3c6070c",
      "metadata": {
        "colab": {
          "base_uri": "https://localhost:8080/",
          "height": 295
        },
        "id": "b3c6070c",
        "outputId": "257a042d-9e55-44ed-c852-5f6511c60b4a"
      },
      "outputs": [
        {
          "data": {
            "image/png": "[encoded data removed]",
            "text/plain": [
              "<Figure size 640x480 with 1 Axes>"
            ]
          },
          "metadata": {},
          "output_type": "display_data"
        }
      ],
      "source": [
        "plt.bar(X_axis - 0.3, x, 0.1, label = 'summary_from_online_source')\n",
        "plt.bar(X_axis + 0.3, y, 0.1, label = 'summary from_model')\n",
        "plt.xticks(X_axis)\n",
        "plt.xlabel(\"Models\")\n",
        "plt.ylabel(\"Length of Summary\")\n",
        "plt.title(\"Length of summary from models\")\n",
        "plt.legend()\n",
        "plt.show()"
      ]
    },
    {
      "cell_type": "code",
      "execution_count": 108,
      "id": "aaa9876f",
      "metadata": {
        "id": "aaa9876f"
      },
      "outputs": [],
      "source": [
        "import math\n",
        "import string\n",
        "import sys\n",
        "  "
      ]
    },
    {
      "cell_type": "code",
      "execution_count": 109,
      "id": "aa47ac7d",
      "metadata": {
        "id": "aa47ac7d"
      },
      "outputs": [],
      "source": [
        "# reading the text file\n",
        "# This function will return a list of the lines of text  in the file.\n",
        "def read_file(filename): \n",
        "      \n",
        "    try:\n",
        "        with open(filename, 'r') as f:\n",
        "            data = f.read()\n",
        "        return data\n",
        "      \n",
        "    except IOError:\n",
        "        print(\"Error opening or reading input file: \", filename)\n",
        "        sys.exit()"
      ]
    },
    {
      "cell_type": "code",
      "execution_count": 110,
      "id": "7bb605a7",
      "metadata": {
        "id": "7bb605a7"
      },
      "outputs": [],
      "source": [
        "# splitting the text lines into words\n",
        "# translation table is a global variable mapping upper case to lower case and punctuation to spaces\n",
        "translation_table = str.maketrans(string.punctuation+string.ascii_uppercase,\n",
        "                                     \" \"*len(string.punctuation)+string.ascii_lowercase)"
      ]
    },
    {
      "cell_type": "code",
      "execution_count": 111,
      "id": "a76ae77f",
      "metadata": {
        "id": "a76ae77f"
      },
      "outputs": [],
      "source": [
        "# returns a list of the words in the file\n",
        "def get_words_from_line_list(text): \n",
        "      \n",
        "    text = text.translate(translation_table)\n",
        "    word_list = text.split()\n",
        "      \n",
        "    return word_list"
      ]
    },
    {
      "cell_type": "code",
      "execution_count": 112,
      "id": "09075cbe",
      "metadata": {
        "id": "09075cbe"
      },
      "outputs": [],
      "source": [
        "# counts frequency of each word returns a dictionary which maps the words to  their frequency.\n",
        "def count_frequency(word_list): \n",
        "      \n",
        "    D = {}\n",
        "      \n",
        "    for new_word in word_list:\n",
        "          \n",
        "        if new_word in D:\n",
        "            D[new_word] = D[new_word] + 1\n",
        "              \n",
        "        else:\n",
        "            D[new_word] = 1\n",
        "              \n",
        "    return D"
      ]
    },
    {
      "cell_type": "code",
      "execution_count": 113,
      "id": "27e21f5e",
      "metadata": {
        "id": "27e21f5e"
      },
      "outputs": [],
      "source": [
        "# returns dictionary of (word, frequency) pairs from the previous dictionary.\n",
        "def word_frequencies_for_file(filename): \n",
        "      \n",
        "    line_list = read_file(filename)\n",
        "    word_list = get_words_from_line_list(line_list)\n",
        "    freq_mapping = count_frequency(word_list)\n",
        "  \n",
        "    print(\"File\", filename, \":\", )\n",
        "    print(len(line_list), \"lines, \", )\n",
        "    print(len(word_list), \"words, \", )\n",
        "    print(len(freq_mapping), \"distinct words\")\n",
        "  \n",
        "    return freq_mapping\n",
        "  "
      ]
    },
    {
      "cell_type": "code",
      "execution_count": 114,
      "id": "7fbb84f7",
      "metadata": {
        "id": "7fbb84f7"
      },
      "outputs": [],
      "source": [
        "# returns the dot product of two documents\n",
        "def dotProduct(D1, D2): \n",
        "    Sum = 0.0\n",
        "      \n",
        "    for key in D1:\n",
        "          \n",
        "        if key in D2:\n",
        "            Sum += (D1[key] * D2[key])\n",
        "              \n",
        "    return Sum"
      ]
    },
    {
      "cell_type": "code",
      "execution_count": 115,
      "id": "00e6baff",
      "metadata": {
        "id": "00e6baff"
      },
      "outputs": [],
      "source": [
        "# returns the angle in radians between document vectors\n",
        "def vector_angle(D1, D2): \n",
        "    numerator = dotProduct(D1, D2)\n",
        "    denominator = math.sqrt(dotProduct(D1, D1)*dotProduct(D2, D2))\n",
        "      \n",
        "    return math.acos(numerator / denominator)"
      ]
    },
    {
      "cell_type": "code",
      "execution_count": 116,
      "id": "5f1ca9cb",
      "metadata": {
        "id": "5f1ca9cb"
      },
      "outputs": [],
      "source": [
        "def documentSimilarity(filename_1, filename_2):\n",
        "    \n",
        "    sorted_word_list_1 = word_frequencies_for_file(filename_1)\n",
        "    sorted_word_list_2 = word_frequencies_for_file(filename_2)\n",
        "    distance = vector_angle(sorted_word_list_1, sorted_word_list_2)\n",
        "      \n",
        "    print(\"The distance between the documents is: % 0.6f (radians)\"% distance)\n",
        "    \n",
        "  \n",
        "    return [len(sorted_word_list_1),len(sorted_word_list_2)]\n",
        "      "
      ]
    },
    {
      "cell_type": "code",
      "execution_count": 117,
      "id": "125f7f08",
      "metadata": {
        "id": "125f7f08"
      },
      "outputs": [],
      "source": [
        "with open (path_model_source, \"a\") as f:\n",
        "    f.write(summary)"
      ]
    },
    {
      "cell_type": "code",
      "execution_count": 118,
      "id": "a938e0e4",
      "metadata": {
        "id": "a938e0e4"
      },
      "outputs": [],
      "source": [
        "f.close()"
      ]
    },
    {
      "cell_type": "code",
      "execution_count": 119,
      "id": "677f89de",
      "metadata": {
        "colab": {
          "base_uri": "https://localhost:8080/"
        },
        "id": "677f89de",
        "outputId": "262e920c-c81c-4e43-f9ba-0f327252c28d"
      },
      "outputs": [
        {
          "name": "stdout",
          "output_type": "stream",
          "text": [
            "File summary_from_model.txt :\n",
            "5176 lines, \n",
            "748 words, \n",
            "130 distinct words\n",
            "File summarized_from_online_source.txt :\n",
            "1933 lines, \n",
            "274 words, \n",
            "179 distinct words\n",
            "The distance between the documents is:  0.605326 (radians)\n"
          ]
        }
      ],
      "source": [
        "word = documentSimilarity(path_model_source, path_online_source)"
      ]
    },
    {
      "cell_type": "code",
      "execution_count": 120,
      "id": "27db5034",
      "metadata": {
        "colab": {
          "base_uri": "https://localhost:8080/",
          "height": 295
        },
        "id": "27db5034",
        "outputId": "b1b0e74b-eaed-481c-ef33-de410b65a681"
      },
      "outputs": [
        {
          "data": {
            "image/png": "[encoded data removed]",
            "text/plain": [
              "<Figure size 640x480 with 1 Axes>"
            ]
          },
          "metadata": {},
          "output_type": "display_data"
        }
      ],
      "source": [
        "plt.bar(X_axis - 0.4, word[0], 0.2, label = 'summary_from_model')\n",
        "plt.bar(X_axis + 0.4, word[1], 0.2, label = 'summary from_online_source')\n",
        "plt.xticks(X_axis)\n",
        "plt.xlabel(\"Models\")\n",
        "plt.ylabel(\"Unique Words\")\n",
        "plt.title(\"Distinct words in summary\")\n",
        "plt.legend()\n",
        "plt.show()"
      ]
    }
  ],
  "metadata": {
    "colab": {
      "provenance": []
    },
    "kernelspec": {
      "display_name": "Python 3",
      "language": "python",
      "name": "python3"
    },
    "language_info": {
      "codemirror_mode": {
        "name": "ipython",
        "version": 3
      },
      "file_extension": ".py",
      "mimetype": "text/x-python",
      "name": "python",
      "nbconvert_exporter": "python",
      "pygments_lexer": "ipython3",
      "version": "3.11.2"
    },
    "vscode": {
      "interpreter": {
        "hash": "b9343f1336c786d23692422f973e965c5ec99db151d28876026752b5c8f24905"
      }
    }
  },
  "nbformat": 4,
  "nbformat_minor": 5
}
